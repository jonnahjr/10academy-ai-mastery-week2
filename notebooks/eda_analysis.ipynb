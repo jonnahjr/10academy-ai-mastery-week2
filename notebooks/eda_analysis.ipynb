{
 "cells": [
  {
   "cell_type": "code",
   "execution_count": 6,
   "metadata": {},
   "outputs": [
    {
     "ename": "ModuleNotFoundError",
     "evalue": "No module named 'plotly'",
     "output_type": "error",
     "traceback": [
      "\u001b[0;31m---------------------------------------------------------------------------\u001b[0m",
      "\u001b[0;31mModuleNotFoundError\u001b[0m                       Traceback (most recent call last)",
      "Cell \u001b[0;32mIn[6], line 4\u001b[0m\n\u001b[1;32m      2\u001b[0m \u001b[38;5;28;01mimport\u001b[39;00m \u001b[38;5;21;01mpandas\u001b[39;00m \u001b[38;5;28;01mas\u001b[39;00m \u001b[38;5;21;01mpd\u001b[39;00m\n\u001b[1;32m      3\u001b[0m \u001b[38;5;28;01mimport\u001b[39;00m \u001b[38;5;21;01mnumpy\u001b[39;00m \u001b[38;5;28;01mas\u001b[39;00m \u001b[38;5;21;01mnp\u001b[39;00m\n\u001b[0;32m----> 4\u001b[0m \u001b[38;5;28;01mimport\u001b[39;00m \u001b[38;5;21;01mplotly\u001b[39;00m\u001b[38;5;21;01m.\u001b[39;00m\u001b[38;5;21;01mexpress\u001b[39;00m \u001b[38;5;28;01mas\u001b[39;00m \u001b[38;5;21;01mpx\u001b[39;00m\n\u001b[1;32m      5\u001b[0m \u001b[38;5;28;01mimport\u001b[39;00m \u001b[38;5;21;01mplotly\u001b[39;00m\u001b[38;5;21;01m.\u001b[39;00m\u001b[38;5;21;01mgraph_objects\u001b[39;00m \u001b[38;5;28;01mas\u001b[39;00m \u001b[38;5;21;01mgo\u001b[39;00m\n",
      "\u001b[0;31mModuleNotFoundError\u001b[0m: No module named 'plotly'"
     ]
    }
   ],
   "source": [
    "import streamlit as st\n",
    "import pandas as pd\n",
    "import numpy as np\n",
    "import plotly.express as px\n",
    "import plotly.graph_objects as go"
   ]
  },
  {
   "cell_type": "code",
   "execution_count": null,
   "metadata": {},
   "outputs": [
    {
     "ename": "",
     "evalue": "",
     "output_type": "error",
     "traceback": [
      "\u001b[1;31mRunning cells with 'Python 3.12.3' requires the ipykernel package.\n",
      "\u001b[1;31mRun the following command to install 'ipykernel' into the Python environment. \n",
      "\u001b[1;31mCommand: '/bin/python3 -m pip install ipykernel -U --user --force-reinstall'"
     ]
    }
   ],
   "source": [
    "# Set page configuration\n",
    "st.set_page_config(page_title=\"Telecom Data EDA\", layout=\"wide\")"
   ]
  },
  {
   "cell_type": "code",
   "execution_count": null,
   "metadata": {},
   "outputs": [
    {
     "ename": "",
     "evalue": "",
     "output_type": "error",
     "traceback": [
      "\u001b[1;31mRunning cells with 'Python 3.12.3' requires the ipykernel package.\n",
      "\u001b[1;31mRun the following command to install 'ipykernel' into the Python environment. \n",
      "\u001b[1;31mCommand: '/bin/python3 -m pip install ipykernel -U --user --force-reinstall'"
     ]
    }
   ],
   "source": [
    "# Title and description\n",
    "st.title(\"Exploratory Data Analysis for Telecom Data\")\n",
    "st.markdown(\"This app performs exploratory data analysis for a telecom dataset.\")"
   ]
  },
  {
   "cell_type": "code",
   "execution_count": null,
   "metadata": {},
   "outputs": [
    {
     "ename": "",
     "evalue": "",
     "output_type": "error",
     "traceback": [
      "\u001b[1;31mRunning cells with 'Python 3.12.3' requires the ipykernel package.\n",
      "\u001b[1;31mRun the following command to install 'ipykernel' into the Python environment. \n",
      "\u001b[1;31mCommand: '/bin/python3 -m pip install ipykernel -U --user --force-reinstall'"
     ]
    }
   ],
   "source": [
    "# Load Data (replace this with your actual data loading process)\n",
    "df = pd.DataFrame({\n",
    "    'MSISDN': range(1000),\n",
    "    'Handset Type': np.random.choice(['iPhone', 'Samsung', 'Huawei', 'Xiaomi', 'Other'], 1000),\n",
    "    'Session ID': np.random.randint(1, 100, 1000),\n",
    "    'Duration': np.random.randint(1, 120, 1000),\n",
    "    'Total DL': np.random.randint(1, 1000, 1000),\n",
    "    'Total UL': np.random.randint(1, 500, 1000),\n",
    "    'TCP Retransmission': np.random.random(1000),\n",
    "    'RTT': np.random.randint(10, 200, 1000),\n",
    "    'Throughput': np.random.randint(1, 100, 1000),\n",
    "})"
   ]
  },
  {
   "cell_type": "code",
   "execution_count": null,
   "metadata": {},
   "outputs": [],
   "source": [
    "# Show the first few rows\n",
    "st.subheader(\"Sample Data\")\n",
    "st.write(df.head())"
   ]
  },
  {
   "cell_type": "code",
   "execution_count": null,
   "metadata": {},
   "outputs": [],
   "source": [
    "# Data Overview\n",
    "st.subheader(\"Data Overview\")\n",
    "st.write(df.info())\n",
    "st.write(df.describe())"
   ]
  },
  {
   "cell_type": "code",
   "execution_count": null,
   "metadata": {},
   "outputs": [],
   "source": [
    "# Handset Distribution Plot\n",
    "st.subheader(\"Handset Distribution\")\n",
    "handset_counts = df['Handset Type'].value_counts()\n",
    "fig, ax = plt.subplots(figsize=(10, 6))\n",
    "sns.barplot(x=handset_counts.index, y=handset_counts.values, ax=ax)\n",
    "plt.title('Handset Type Distribution')\n",
    "plt.xlabel('Handset Type')\n",
    "plt.ylabel('Count')\n",
    "plt.xticks(rotation=45)\n",
    "st.pyplot(fig)"
   ]
  },
  {
   "cell_type": "code",
   "execution_count": null,
   "metadata": {},
   "outputs": [],
   "source": [
    "# Session Duration Analysis\n",
    "st.subheader(\"Session Duration Analysis\")\n",
    "fig, ax = plt.subplots(figsize=(10, 6))\n",
    "sns.histplot(df['Duration'], kde=True, ax=ax)\n",
    "plt.title('Distribution of Session Duration')\n",
    "plt.xlabel('Duration (minutes)')\n",
    "st.pyplot(fig)\n"
   ]
  },
  {
   "cell_type": "code",
   "execution_count": null,
   "metadata": {},
   "outputs": [],
   "source": [
    "# Data Usage Analysis\n",
    "st.subheader(\"Data Usage Analysis\")\n",
    "df['Total Data'] = df['Total DL'] + df['Total UL']\n",
    "fig, ax = plt.subplots(figsize=(10, 6))\n",
    "sns.scatterplot(x='Duration', y='Total Data', data=df, ax=ax)\n",
    "plt.title('Session Duration vs Total Data Usage')\n",
    "plt.xlabel('Duration (minutes)')\n",
    "plt.ylabel('Total Data (MB)')\n",
    "st.pyplot(fig)"
   ]
  },
  {
   "cell_type": "code",
   "execution_count": null,
   "metadata": {},
   "outputs": [],
   "source": [
    "\n",
    "# Network Performance Analysis\n",
    "st.subheader(\"Network Performance Analysis\")\n",
    "fig, axs = plt.subplots(1, 3, figsize=(18, 6))"
   ]
  },
  {
   "cell_type": "code",
   "execution_count": null,
   "metadata": {},
   "outputs": [],
   "source": [
    "\n",
    "# TCP Retransmission\n",
    "sns.histplot(df['TCP Retransmission'], kde=True, ax=axs[0])\n",
    "axs[0].set_title('TCP Retransmission Distribution')"
   ]
  },
  {
   "cell_type": "code",
   "execution_count": null,
   "metadata": {},
   "outputs": [],
   "source": [
    "# RTT\n",
    "sns.histplot(df['RTT'], kde=True, ax=axs[1])\n",
    "axs[1].set_title('RTT Distribution')"
   ]
  },
  {
   "cell_type": "code",
   "execution_count": null,
   "metadata": {},
   "outputs": [],
   "source": [
    "# Throughput\n",
    "sns.histplot(df['Throughput'], kde=True, ax=axs[2])\n",
    "axs[2].set_title('Throughput Distribution')"
   ]
  },
  {
   "cell_type": "code",
   "execution_count": null,
   "metadata": {},
   "outputs": [],
   "source": [
    "plt.tight_layout()\n",
    "st.pyplot(fig)"
   ]
  },
  {
   "cell_type": "code",
   "execution_count": null,
   "metadata": {},
   "outputs": [],
   "source": [
    "# Correlation Analysis\n",
    "st.subheader(\"Correlation Analysis\")\n",
    "correlation_matrix = df[['Duration', 'Total Data', 'TCP Retransmission', 'RTT', 'Throughput']].corr()\n",
    "fig, ax = plt.subplots(figsize=(10, 8))\n",
    "sns.heatmap(correlation_matrix, annot=True, cmap='coolwarm', vmin=-1, vmax=1, center=0, ax=ax)\n",
    "plt.title('Correlation Matrix of Key Metrics')\n",
    "st.pyplot(fig)"
   ]
  },
  {
   "cell_type": "code",
   "execution_count": null,
   "metadata": {},
   "outputs": [],
   "source": [
    "# Conclusion\n",
    "st.markdown(\"\"\"\n",
    "## Conclusion\n",
    "\n",
    "This exploratory data analysis provides insights into the distribution of handset types, session durations, data usage patterns, and network performance metrics. Further analysis can be conducted based on these initial findings.\n",
    "\"\"\")"
   ]
  },
  {
   "cell_type": "code",
   "execution_count": null,
   "metadata": {},
   "outputs": [],
   "source": []
  }
 ],
 "metadata": {
  "kernelspec": {
   "display_name": "Python 3",
   "language": "python",
   "name": "python3"
  },
  "language_info": {
   "codemirror_mode": {
    "name": "ipython",
    "version": 3
   },
   "file_extension": ".py",
   "mimetype": "text/x-python",
   "name": "python",
   "nbconvert_exporter": "python",
   "pygments_lexer": "ipython3",
   "version": "3.12.3"
  }
 },
 "nbformat": 4,
 "nbformat_minor": 2
}
